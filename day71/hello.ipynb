{
 "cells": [
  {
   "cell_type": "code",
   "execution_count": 24,
   "metadata": {},
   "outputs": [],
   "source": [
    "import pandas as pd\n",
    "import numpy as np\n",
    "df = pd.read_csv('salaries_by_college_major.csv')\n",
    "#View the first 5 columns and rows of data\n",
    "# df.head()\n",
    "\n",
    "#See thenumber of rows and columns\n",
    "# df.shape\n",
    "# (51, 6)\n",
    "# 51 rows 6 columns\n",
    "\n",
    "#See the names of the columns\n",
    "# df.columns\n",
    "# Index(['Undergraduate Major', 'Starting Median Salary',\n",
    "#        'Mid-Career Median Salary', 'Mid-Career 10th Percentile Salary',\n",
    "#        'Mid-Career 90th Percentile Salary', 'Group'],\n",
    "#       dtype='object')\n",
    "\n",
    "#Check for blank or missing values\n",
    "# df.isna()\n",
    "\n",
    "# Check the last couple of rows in the dataframe\n",
    "# df.tail()\n",
    "\n",
    "# remove row with null values\n",
    "# clean_df = df.dropna()\n",
    "# clean_df.tail()\n",
    "\n",
    "\n",
    "\n"
   ]
  },
  {
   "cell_type": "code",
   "execution_count": 19,
   "metadata": {},
   "outputs": [
    {
     "data": {
      "text/plain": [
       "'Physician Assistant'"
      ]
     },
     "execution_count": 19,
     "metadata": {},
     "output_type": "execute_result"
    }
   ],
   "source": [
    "# Print a column\n",
    "# clean_df['Starting Median Salary']\n",
    "\n",
    "# See the highest value in a specific column\n",
    "clean_df['Starting Median Salary'].max()\n",
    "# 74300\n",
    "\n",
    "# Check the index/row number of the row with the largest number\n",
    "clean_df['Starting Median Salary'].idxmax()\n",
    "# >>> 43\n",
    "\n",
    "# Check the name of the major that corresponds to that row\n",
    "clean_df['Undergraduate Major'].loc[43]\n",
    "# >>> 'Physician Assistant'\n",
    "# OR you can use double bracket notation\n",
    "clean_df['Undergraduate Major'][43]\n",
    "\n"
   ]
  },
  {
   "cell_type": "code",
   "execution_count": 23,
   "metadata": {},
   "outputs": [
    {
     "data": {
      "text/plain": [
       "'Chemical Engineering'"
      ]
     },
     "execution_count": 23,
     "metadata": {},
     "output_type": "execute_result"
    }
   ],
   "source": [
    "# What college major has the highest mid-career salary? How much do graduates with this major earn? (Mid-career is defined as having 10+ years of experience).\n",
    "clean_df['Mid-Career Median Salary'].max()\n",
    "# 107000.0\n",
    "\n",
    "clean_df['Mid-Career Median Salary'].idxmax()\n",
    "# 8\n",
    "clean_df['Undergraduate Major'].loc[8]\n",
    "# 'Chemical Engineering'"
   ]
  },
  {
   "cell_type": "code",
   "execution_count": 31,
   "metadata": {},
   "outputs": [
    {
     "data": {
      "text/plain": [
       "'Spanish'"
      ]
     },
     "execution_count": 31,
     "metadata": {},
     "output_type": "execute_result"
    }
   ],
   "source": [
    "# Which college major has the lowest starting salary and how much do graduates earn after university?\n",
    "clean_df['Starting Median Salary'].min()\n",
    "# 34000.0\n",
    "clean_df['Starting Median Salary'].idxmin()\n",
    "# 49\n",
    "clean_df['Undergraduate Major'][49]\n",
    "# 'Spanish'\n"
   ]
  },
  {
   "cell_type": "code",
   "execution_count": 34,
   "metadata": {},
   "outputs": [
    {
     "data": {
      "text/plain": [
       "'Education'"
      ]
     },
     "execution_count": 34,
     "metadata": {},
     "output_type": "execute_result"
    }
   ],
   "source": [
    "# Which college major has the lowest mid-career salary and how much can people expect to earn with this degree? \n",
    "clean_df['Mid-Career Median Salary'].min()\n",
    "# 52000.0\n",
    "clean_df['Mid-Career Median Salary'].idxmin()\n",
    "# 18\n",
    "clean_df['Undergraduate Major'][18]\n",
    "# 'Education'"
   ]
  },
  {
   "cell_type": "code",
   "execution_count": 42,
   "metadata": {},
   "outputs": [
    {
     "data": {
      "text/html": [
       "<div>\n",
       "<style scoped>\n",
       "    .dataframe tbody tr th:only-of-type {\n",
       "        vertical-align: middle;\n",
       "    }\n",
       "\n",
       "    .dataframe tbody tr th {\n",
       "        vertical-align: top;\n",
       "    }\n",
       "\n",
       "    .dataframe thead th {\n",
       "        text-align: right;\n",
       "    }\n",
       "</style>\n",
       "<table border=\"1\" class=\"dataframe\">\n",
       "  <thead>\n",
       "    <tr style=\"text-align: right;\">\n",
       "      <th></th>\n",
       "      <th>Undergraduate Major</th>\n",
       "      <th>Spread</th>\n",
       "      <th>Starting Median Salary</th>\n",
       "      <th>Mid-Career Median Salary</th>\n",
       "      <th>Mid-Career 10th Percentile Salary</th>\n",
       "      <th>Mid-Career 90th Percentile Salary</th>\n",
       "      <th>Group</th>\n",
       "    </tr>\n",
       "  </thead>\n",
       "  <tbody>\n",
       "    <tr>\n",
       "      <th>0</th>\n",
       "      <td>Accounting</td>\n",
       "      <td>109800.0</td>\n",
       "      <td>46000.0</td>\n",
       "      <td>77100.0</td>\n",
       "      <td>42200.0</td>\n",
       "      <td>152000.0</td>\n",
       "      <td>Business</td>\n",
       "    </tr>\n",
       "    <tr>\n",
       "      <th>1</th>\n",
       "      <td>Aerospace Engineering</td>\n",
       "      <td>96700.0</td>\n",
       "      <td>57700.0</td>\n",
       "      <td>101000.0</td>\n",
       "      <td>64300.0</td>\n",
       "      <td>161000.0</td>\n",
       "      <td>STEM</td>\n",
       "    </tr>\n",
       "    <tr>\n",
       "      <th>2</th>\n",
       "      <td>Agriculture</td>\n",
       "      <td>113700.0</td>\n",
       "      <td>42600.0</td>\n",
       "      <td>71900.0</td>\n",
       "      <td>36300.0</td>\n",
       "      <td>150000.0</td>\n",
       "      <td>Business</td>\n",
       "    </tr>\n",
       "    <tr>\n",
       "      <th>3</th>\n",
       "      <td>Anthropology</td>\n",
       "      <td>104200.0</td>\n",
       "      <td>36800.0</td>\n",
       "      <td>61500.0</td>\n",
       "      <td>33800.0</td>\n",
       "      <td>138000.0</td>\n",
       "      <td>HASS</td>\n",
       "    </tr>\n",
       "    <tr>\n",
       "      <th>4</th>\n",
       "      <td>Architecture</td>\n",
       "      <td>85400.0</td>\n",
       "      <td>41600.0</td>\n",
       "      <td>76800.0</td>\n",
       "      <td>50600.0</td>\n",
       "      <td>136000.0</td>\n",
       "      <td>Business</td>\n",
       "    </tr>\n",
       "  </tbody>\n",
       "</table>\n",
       "</div>"
      ],
      "text/plain": [
       "     Undergraduate Major    Spread  Starting Median Salary  \\\n",
       "0             Accounting  109800.0                 46000.0   \n",
       "1  Aerospace Engineering   96700.0                 57700.0   \n",
       "2            Agriculture  113700.0                 42600.0   \n",
       "3           Anthropology  104200.0                 36800.0   \n",
       "4           Architecture   85400.0                 41600.0   \n",
       "\n",
       "   Mid-Career Median Salary  Mid-Career 10th Percentile Salary  \\\n",
       "0                   77100.0                            42200.0   \n",
       "1                  101000.0                            64300.0   \n",
       "2                   71900.0                            36300.0   \n",
       "3                   61500.0                            33800.0   \n",
       "4                   76800.0                            50600.0   \n",
       "\n",
       "   Mid-Career 90th Percentile Salary     Group  \n",
       "0                           152000.0  Business  \n",
       "1                           161000.0      STEM  \n",
       "2                           150000.0  Business  \n",
       "3                           138000.0      HASS  \n",
       "4                           136000.0  Business  "
      ]
     },
     "execution_count": 42,
     "metadata": {},
     "output_type": "execute_result"
    }
   ],
   "source": [
    "# How would we calculate the difference between the earnings of the 10th and 90th percentile?\n",
    "clean_df['Mid-Career 90th Percentile Salary'] - clean_df['Mid-Career 10th Percentile Salary']\n",
    "# OR use subract()\n",
    "clean_df['Mid-Career 90th Percentile Salary'].subtract(clean_df['Mid-Career 10th Percentile Salary'])\n",
    "# We can add this data as  a column to our existing dataframe with the .insert() method:\n",
    "# spread_col = clean_df['Mid-Career 90th Percentile Salary'] - clean_df['Mid-Career 10th Percentile Salary']\n",
    "# clean_df.insert(1, 'Spread', spread_col)\n",
    "clean_df.head()"
   ]
  },
  {
   "cell_type": "code",
   "execution_count": null,
   "metadata": {},
   "outputs": [],
   "source": [
    "# To see which degrees have the smallest spread, we can use the .sort_values() method. \n",
    "low_risk = clean_df.sort_values('Spread')\n",
    "low_risk[['Undergraduate Major','Spread']].head()\n",
    "low_risk.head()"
   ]
  },
  {
   "cell_type": "code",
   "execution_count": 52,
   "metadata": {},
   "outputs": [
    {
     "data": {
      "text/html": [
       "<div>\n",
       "<style scoped>\n",
       "    .dataframe tbody tr th:only-of-type {\n",
       "        vertical-align: middle;\n",
       "    }\n",
       "\n",
       "    .dataframe tbody tr th {\n",
       "        vertical-align: top;\n",
       "    }\n",
       "\n",
       "    .dataframe thead th {\n",
       "        text-align: right;\n",
       "    }\n",
       "</style>\n",
       "<table border=\"1\" class=\"dataframe\">\n",
       "  <thead>\n",
       "    <tr style=\"text-align: right;\">\n",
       "      <th></th>\n",
       "      <th>Undergraduate Major</th>\n",
       "      <th>Mid-Career 90th Percentile Salary</th>\n",
       "    </tr>\n",
       "  </thead>\n",
       "  <tbody>\n",
       "    <tr>\n",
       "      <th>17</th>\n",
       "      <td>Economics</td>\n",
       "      <td>210000.0</td>\n",
       "    </tr>\n",
       "    <tr>\n",
       "      <th>22</th>\n",
       "      <td>Finance</td>\n",
       "      <td>195000.0</td>\n",
       "    </tr>\n",
       "    <tr>\n",
       "      <th>8</th>\n",
       "      <td>Chemical Engineering</td>\n",
       "      <td>194000.0</td>\n",
       "    </tr>\n",
       "    <tr>\n",
       "      <th>37</th>\n",
       "      <td>Math</td>\n",
       "      <td>183000.0</td>\n",
       "    </tr>\n",
       "    <tr>\n",
       "      <th>44</th>\n",
       "      <td>Physics</td>\n",
       "      <td>178000.0</td>\n",
       "    </tr>\n",
       "  </tbody>\n",
       "</table>\n",
       "</div>"
      ],
      "text/plain": [
       "     Undergraduate Major  Mid-Career 90th Percentile Salary\n",
       "17             Economics                           210000.0\n",
       "22               Finance                           195000.0\n",
       "8   Chemical Engineering                           194000.0\n",
       "37                  Math                           183000.0\n",
       "44               Physics                           178000.0"
      ]
     },
     "execution_count": 52,
     "metadata": {},
     "output_type": "execute_result"
    }
   ],
   "source": [
    "# find the degrees with the highest potential. Find the top 5 degrees with the highest values in the 90th percentile.\n",
    "mid_career = clean_df.sort_values(['Mid-Career 90th Percentile Salary'],ascending=False)\n",
    "mid_career[['Undergraduate Major', 'Mid-Career 90th Percentile Salary']].head()\n"
   ]
  },
  {
   "cell_type": "code",
   "execution_count": 53,
   "metadata": {},
   "outputs": [
    {
     "data": {
      "text/html": [
       "<div>\n",
       "<style scoped>\n",
       "    .dataframe tbody tr th:only-of-type {\n",
       "        vertical-align: middle;\n",
       "    }\n",
       "\n",
       "    .dataframe tbody tr th {\n",
       "        vertical-align: top;\n",
       "    }\n",
       "\n",
       "    .dataframe thead th {\n",
       "        text-align: right;\n",
       "    }\n",
       "</style>\n",
       "<table border=\"1\" class=\"dataframe\">\n",
       "  <thead>\n",
       "    <tr style=\"text-align: right;\">\n",
       "      <th></th>\n",
       "      <th>Undergraduate Major</th>\n",
       "      <th>Spread</th>\n",
       "    </tr>\n",
       "  </thead>\n",
       "  <tbody>\n",
       "    <tr>\n",
       "      <th>17</th>\n",
       "      <td>Economics</td>\n",
       "      <td>159400.0</td>\n",
       "    </tr>\n",
       "    <tr>\n",
       "      <th>22</th>\n",
       "      <td>Finance</td>\n",
       "      <td>147800.0</td>\n",
       "    </tr>\n",
       "    <tr>\n",
       "      <th>37</th>\n",
       "      <td>Math</td>\n",
       "      <td>137800.0</td>\n",
       "    </tr>\n",
       "    <tr>\n",
       "      <th>36</th>\n",
       "      <td>Marketing</td>\n",
       "      <td>132900.0</td>\n",
       "    </tr>\n",
       "    <tr>\n",
       "      <th>42</th>\n",
       "      <td>Philosophy</td>\n",
       "      <td>132500.0</td>\n",
       "    </tr>\n",
       "  </tbody>\n",
       "</table>\n",
       "</div>"
      ],
      "text/plain": [
       "   Undergraduate Major    Spread\n",
       "17           Economics  159400.0\n",
       "22             Finance  147800.0\n",
       "37                Math  137800.0\n",
       "36           Marketing  132900.0\n",
       "42          Philosophy  132500.0"
      ]
     },
     "execution_count": 53,
     "metadata": {},
     "output_type": "execute_result"
    }
   ],
   "source": [
    "highest_spread = clean_df.sort_values('Spread', ascending=False)\n",
    "highest_spread[['Undergraduate Major', 'Spread']].head()"
   ]
  },
  {
   "cell_type": "code",
   "execution_count": 56,
   "metadata": {},
   "outputs": [],
   "source": [
    "# We have three categories in the 'Group' column: STEM, HASS and Business. Let's count how many majors we have in each category:\n",
    "clean_df.groupby('Group').count()\n",
    "#  use the .mean() method to find the average salary by group? \n",
    "pd.options.display.float_format = '{:,.2f}'.format\n",
    "\n",
    "clean_df.groupby('Group').mean()"
   ]
  }
 ],
 "metadata": {
  "interpreter": {
   "hash": "b18e3c4572a478d2081bff0187d8e5af004b3f55c99ab1c43287c2fd10e000ad"
  },
  "kernelspec": {
   "display_name": "Python 3.8.10 64-bit ('virtual': venv)",
   "language": "python",
   "name": "python3"
  },
  "language_info": {
   "codemirror_mode": {
    "name": "ipython",
    "version": 3
   },
   "file_extension": ".py",
   "mimetype": "text/x-python",
   "name": "python",
   "nbconvert_exporter": "python",
   "pygments_lexer": "ipython3",
   "version": "3.8.10"
  },
  "orig_nbformat": 4
 },
 "nbformat": 4,
 "nbformat_minor": 2
}
